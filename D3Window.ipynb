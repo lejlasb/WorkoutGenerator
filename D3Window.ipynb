{
 "cells": [
  {
   "cell_type": "code",
   "execution_count": 23,
   "id": "f12e55a3",
   "metadata": {},
   "outputs": [],
   "source": [
    "# Imports to setup the new window.\n",
    "import tkinter as tk\n",
    "from tkinter import *\n",
    "import random"
   ]
  },
  {
   "cell_type": "code",
   "execution_count": 24,
   "id": "b896bb31",
   "metadata": {},
   "outputs": [],
   "source": [
    "# A dictionary with my workouts\n",
    "Workouts = {\n",
    "    \"back\": ['B1','B2', 'B3', 'B4', 'B6','B7'], \"arms\": ['a1','a2', 'a3'], \"chest\": ['c1', 'c2', 'c3', 'c4', 'c5']\n",
    "    }"
   ]
  },
  {
   "cell_type": "code",
   "execution_count": 25,
   "id": "b4a0ebc4",
   "metadata": {},
   "outputs": [],
   "source": [
    "# A function to display buttons with all the workout categories\n",
    "\n",
    "def DisplayWorkouts():\n",
    "    '''This function will display the workout categories as buttons on the main screen'''\n",
    "    for key in Workouts:\n",
    "        button = tk.Button(m, text = key.capitalize(), width = 20, \n",
    "                           command = lambda Category = key: ChooseWorkout(Category))\n",
    "        button.pack()"
   ]
  },
  {
   "cell_type": "code",
   "execution_count": 26,
   "id": "b34d0135",
   "metadata": {},
   "outputs": [],
   "source": [
    "def ChooseWorkout(Category):\n",
    "    '''This function will display the workouts in that category and ask the user to pick how many they want.'''\n",
    "    \n",
    "    #Hide the buttons not selected\n",
    "    for widget in m.winfo_children():\n",
    "        widget.pack_forget()\n",
    "        \n",
    "    #Label which asks how many workouts the user wants\n",
    "    label = tk.Label(m, text = f\"How many {Category.capitalize()} exercises would you like?\")\n",
    "    label.pack()\n",
    "    \n",
    "    #A widget to enter the number from the above\n",
    "    enter = tk.Entry(m, width = 10)\n",
    "    enter.pack()\n",
    "    \n",
    "    #A button for submission\n",
    "    Submit = tk.Button(m, text=\"Submit\", width = 20,\n",
    "                      command = lambda: ExerciseNumber(Category, enter.get()))\n",
    "    Submit.pack()\n",
    "    \n",
    "    #Go back button in case the user chose the wrong category\n",
    "    BackToMain = tk.Button(m, text = \"Return To Main Menu\", command = GoBackToCategories)\n",
    "    BackToMain.pack()"
   ]
  },
  {
   "cell_type": "code",
   "execution_count": 27,
   "id": "a9df4cc0",
   "metadata": {},
   "outputs": [],
   "source": [
    "def ExerciseNumber(Category, NumberExercises):\n",
    "    '''This function displays a random list of nonrepeating exercises based on the category\n",
    "    and number of exercises chosen by the user'''\n",
    "    \n",
    "    #Check to see if the number of exercises selected is valid\n",
    "    try:\n",
    "        NumberExercises = int(NumberExercises)\n",
    "        \n",
    "        if NumberExercises <= 0:\n",
    "            raise ValueError(\"Number must be an integer greater than zero\")\n",
    "        \n",
    "        if NumberExercises > len(Workouts[Category]):\n",
    "            raise ValueError(f\"Please choose a number between 1 and {len(Workouts[Category])}\")\n",
    "            \n",
    "        #Display a random list of workouts\n",
    "        RandomWorkouts = random.sample(Workouts[Category], NumberExercises)\n",
    "        TheList = tk.Label(m, text = f\"Here are your {NumberExercises} exercises:\\n\" + ', '.join(RandomWorkouts))\n",
    "        TheList.pack()\n",
    "        \n",
    "    #Message with the value error\n",
    "    except ValueError as VE:\n",
    "        ErrorLabel = tk.Label(m, text = f\"Error: {VE}\")\n",
    "        ErrorLabel.pack()\n",
    "        \n",
    "    \n",
    "                \n",
    "        "
   ]
  },
  {
   "cell_type": "code",
   "execution_count": 28,
   "id": "de160d79",
   "metadata": {},
   "outputs": [],
   "source": [
    "def GoBackToCategories():\n",
    "    '''Function returns the user to the main workout category screens'''\n",
    "    \n",
    "    for widget in m.winfo_children():\n",
    "        widget.pack_forget()\n",
    "        \n",
    "    DisplayWorkouts()"
   ]
  },
  {
   "cell_type": "code",
   "execution_count": 30,
   "id": "88352110",
   "metadata": {},
   "outputs": [],
   "source": [
    "# The main window\n",
    "m = tk.Tk()\n",
    "m.title(\"WorkoutSelector\")\n",
    "m.geometry(\"400x400\")\n",
    "\n",
    "DisplayWorkouts()\n",
    "\n",
    "m.mainloop()"
   ]
  },
  {
   "cell_type": "code",
   "execution_count": null,
   "id": "0d949f6a",
   "metadata": {},
   "outputs": [],
   "source": []
  },
  {
   "cell_type": "code",
   "execution_count": null,
   "id": "73228c08",
   "metadata": {},
   "outputs": [],
   "source": []
  }
 ],
 "metadata": {
  "kernelspec": {
   "display_name": "Python 3 (ipykernel)",
   "language": "python",
   "name": "python3"
  },
  "language_info": {
   "codemirror_mode": {
    "name": "ipython",
    "version": 3
   },
   "file_extension": ".py",
   "mimetype": "text/x-python",
   "name": "python",
   "nbconvert_exporter": "python",
   "pygments_lexer": "ipython3",
   "version": "3.12.2"
  }
 },
 "nbformat": 4,
 "nbformat_minor": 5
}
